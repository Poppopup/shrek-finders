{
 "cells": [
  {
   "cell_type": "markdown",
   "metadata": {},
   "source": [
    "super cool dog info"
   ]
  },
  {
   "cell_type": "code",
   "execution_count": 1,
   "metadata": {},
   "outputs": [],
   "source": [
    "import pandas as pd\n",
    "import numpy as np\n",
    "import geopandas\n",
    "\n",
    "%matplotlib inline"
   ]
  },
  {
   "cell_type": "code",
   "execution_count": 14,
   "metadata": {},
   "outputs": [
    {
     "data": {
      "text/html": [
       "<div>\n",
       "<style scoped>\n",
       "    .dataframe tbody tr th:only-of-type {\n",
       "        vertical-align: middle;\n",
       "    }\n",
       "\n",
       "    .dataframe tbody tr th {\n",
       "        vertical-align: top;\n",
       "    }\n",
       "\n",
       "    .dataframe thead th {\n",
       "        text-align: right;\n",
       "    }\n",
       "</style>\n",
       "<table border=\"1\" class=\"dataframe\">\n",
       "  <thead>\n",
       "    <tr style=\"text-align: right;\">\n",
       "      <th></th>\n",
       "      <th>LicenseType</th>\n",
       "      <th>Breed</th>\n",
       "      <th>Color</th>\n",
       "      <th>DogName</th>\n",
       "      <th>OwnerZip</th>\n",
       "      <th>ExpYear</th>\n",
       "      <th>ValidDate</th>\n",
       "    </tr>\n",
       "  </thead>\n",
       "  <tbody>\n",
       "    <tr>\n",
       "      <th>0</th>\n",
       "      <td>Dog Individual Neutered Male</td>\n",
       "      <td>COCKAPOO</td>\n",
       "      <td>BROWN</td>\n",
       "      <td>CHARLEY</td>\n",
       "      <td>15236</td>\n",
       "      <td>2021</td>\n",
       "      <td>2020-11-30T09:51:38</td>\n",
       "    </tr>\n",
       "    <tr>\n",
       "      <th>1</th>\n",
       "      <td>Dog Individual Neutered Male</td>\n",
       "      <td>TAG</td>\n",
       "      <td>WHITE/BLACK/BROWN</td>\n",
       "      <td>BOOMER</td>\n",
       "      <td>15090</td>\n",
       "      <td>2021</td>\n",
       "      <td>2020-11-30T09:55:05</td>\n",
       "    </tr>\n",
       "    <tr>\n",
       "      <th>2</th>\n",
       "      <td>Dog Individual Male</td>\n",
       "      <td>American Bully</td>\n",
       "      <td>BROWN</td>\n",
       "      <td>BRUISER</td>\n",
       "      <td>15220</td>\n",
       "      <td>2021</td>\n",
       "      <td>2020-11-30T10:53:39</td>\n",
       "    </tr>\n",
       "    <tr>\n",
       "      <th>3</th>\n",
       "      <td>Dog Senior Citizen or Disability Neutered Male</td>\n",
       "      <td>CHIHUAHUA</td>\n",
       "      <td>BLACK</td>\n",
       "      <td>MIDGET</td>\n",
       "      <td>15065</td>\n",
       "      <td>2021</td>\n",
       "      <td>2020-11-30T15:28:45</td>\n",
       "    </tr>\n",
       "    <tr>\n",
       "      <th>4</th>\n",
       "      <td>Dog Individual Male</td>\n",
       "      <td>GOLDENDOODLE</td>\n",
       "      <td>BROWN</td>\n",
       "      <td>REX</td>\n",
       "      <td>15237</td>\n",
       "      <td>2021</td>\n",
       "      <td>2020-11-30T15:38:14</td>\n",
       "    </tr>\n",
       "  </tbody>\n",
       "</table>\n",
       "</div>"
      ],
      "text/plain": [
       "                                      LicenseType           Breed  \\\n",
       "0                    Dog Individual Neutered Male        COCKAPOO   \n",
       "1                    Dog Individual Neutered Male             TAG   \n",
       "2                             Dog Individual Male  American Bully   \n",
       "3  Dog Senior Citizen or Disability Neutered Male       CHIHUAHUA   \n",
       "4                             Dog Individual Male    GOLDENDOODLE   \n",
       "\n",
       "               Color  DogName  OwnerZip  ExpYear            ValidDate  \n",
       "0              BROWN  CHARLEY     15236     2021  2020-11-30T09:51:38  \n",
       "1  WHITE/BLACK/BROWN   BOOMER     15090     2021  2020-11-30T09:55:05  \n",
       "2              BROWN  BRUISER     15220     2021  2020-11-30T10:53:39  \n",
       "3              BLACK   MIDGET     15065     2021  2020-11-30T15:28:45  \n",
       "4              BROWN      REX     15237     2021  2020-11-30T15:38:14  "
      ]
     },
     "execution_count": 14,
     "metadata": {},
     "output_type": "execute_result"
    }
   ],
   "source": [
    "big_dog_data = pd.read_csv(\"https://data.wprdc.org/datastore/dump/e16d4ab3-842a-4f39-9ad7-ce5921002280\")\n",
    "\n",
    "big_dog_data.head()"
   ]
  },
  {
   "cell_type": "markdown",
   "metadata": {},
   "source": [
    "i got rid of all the unnecessary columns because they're annoying but also so it's easier to combine with the zipcode dataset"
   ]
  },
  {
   "cell_type": "code",
   "execution_count": 29,
   "metadata": {},
   "outputs": [
    {
     "data": {
      "text/html": [
       "<div>\n",
       "<style scoped>\n",
       "    .dataframe tbody tr th:only-of-type {\n",
       "        vertical-align: middle;\n",
       "    }\n",
       "\n",
       "    .dataframe tbody tr th {\n",
       "        vertical-align: top;\n",
       "    }\n",
       "\n",
       "    .dataframe thead th {\n",
       "        text-align: right;\n",
       "    }\n",
       "</style>\n",
       "<table border=\"1\" class=\"dataframe\">\n",
       "  <thead>\n",
       "    <tr style=\"text-align: right;\">\n",
       "      <th></th>\n",
       "      <th>OwnerZip</th>\n",
       "    </tr>\n",
       "  </thead>\n",
       "  <tbody>\n",
       "    <tr>\n",
       "      <th>0</th>\n",
       "      <td>15236</td>\n",
       "    </tr>\n",
       "    <tr>\n",
       "      <th>1</th>\n",
       "      <td>15090</td>\n",
       "    </tr>\n",
       "    <tr>\n",
       "      <th>2</th>\n",
       "      <td>15220</td>\n",
       "    </tr>\n",
       "    <tr>\n",
       "      <th>3</th>\n",
       "      <td>15065</td>\n",
       "    </tr>\n",
       "    <tr>\n",
       "      <th>4</th>\n",
       "      <td>15237</td>\n",
       "    </tr>\n",
       "  </tbody>\n",
       "</table>\n",
       "</div>"
      ],
      "text/plain": [
       "   OwnerZip\n",
       "0     15236\n",
       "1     15090\n",
       "2     15220\n",
       "3     15065\n",
       "4     15237"
      ]
     },
     "execution_count": 29,
     "metadata": {},
     "output_type": "execute_result"
    }
   ],
   "source": [
    "dog_data_1 = big_dog_data.drop(['LicenseType','Breed','Color','ExpYear','ValidDate','DogName'], axis = 1)\n",
    "\n",
    "dog_data_1.head()"
   ]
  },
  {
   "cell_type": "code",
   "execution_count": 42,
   "metadata": {},
   "outputs": [
    {
     "data": {
      "text/html": [
       "<div>\n",
       "<style scoped>\n",
       "    .dataframe tbody tr th:only-of-type {\n",
       "        vertical-align: middle;\n",
       "    }\n",
       "\n",
       "    .dataframe tbody tr th {\n",
       "        vertical-align: top;\n",
       "    }\n",
       "\n",
       "    .dataframe thead th {\n",
       "        text-align: right;\n",
       "    }\n",
       "</style>\n",
       "<table border=\"1\" class=\"dataframe\">\n",
       "  <thead>\n",
       "    <tr style=\"text-align: right;\">\n",
       "      <th></th>\n",
       "      <th>OwnerZip</th>\n",
       "    </tr>\n",
       "  </thead>\n",
       "  <tbody>\n",
       "    <tr>\n",
       "      <th>82449</th>\n",
       "      <td>16059</td>\n",
       "    </tr>\n",
       "    <tr>\n",
       "      <th>82450</th>\n",
       "      <td>16059</td>\n",
       "    </tr>\n",
       "    <tr>\n",
       "      <th>82451</th>\n",
       "      <td>16137</td>\n",
       "    </tr>\n",
       "    <tr>\n",
       "      <th>82452</th>\n",
       "      <td>16137</td>\n",
       "    </tr>\n",
       "    <tr>\n",
       "      <th>82453</th>\n",
       "      <td>16201</td>\n",
       "    </tr>\n",
       "  </tbody>\n",
       "</table>\n",
       "</div>"
      ],
      "text/plain": [
       "       OwnerZip\n",
       "82449     16059\n",
       "82450     16059\n",
       "82451     16137\n",
       "82452     16137\n",
       "82453     16201"
      ]
     },
     "execution_count": 42,
     "metadata": {},
     "output_type": "execute_result"
    }
   ],
   "source": [
    "dog_data = dog_data_1.sort_values('OwnerZip').reset_index(drop=True)\n",
    "\n",
    "dog_data.tail(5)"
   ]
  },
  {
   "cell_type": "code",
   "execution_count": 103,
   "metadata": {},
   "outputs": [
    {
     "data": {
      "text/plain": [
       "15108    3499\n",
       "15237    3494\n",
       "15102    2838\n",
       "15235    2778\n",
       "15044    2738\n",
       "         ... \n",
       "15034     135\n",
       "15076     130\n",
       "15015     127\n",
       "15226     125\n",
       "15049     116\n",
       "Name: OwnerZip, Length: 74, dtype: int64"
      ]
     },
     "execution_count": 103,
     "metadata": {},
     "output_type": "execute_result"
    }
   ],
   "source": [
    "dogs_threshold = lambda x, threshold: x['OwnerZip'].count() > threshold\n",
    "\n",
    "most_dogs = dog_data.groupby(\"OwnerZip\").filter(dogs_threshold, threshold = 100)\n",
    "\n",
    "most_dogs['OwnerZip'].value_counts()"
   ]
  },
  {
   "cell_type": "code",
   "execution_count": 130,
   "metadata": {},
   "outputs": [
    {
     "data": {
      "text/plain": [
       "15237    3494\n",
       "15235    2778\n",
       "15236    2451\n",
       "15239    2185\n",
       "15227    1960\n",
       "15241    1806\n",
       "15202    1481\n",
       "15205    1434\n",
       "15221    1421\n",
       "15228    1392\n",
       "15229    1347\n",
       "15238    1229\n",
       "15209    1198\n",
       "15243    1136\n",
       "15216    1115\n",
       "15234    1058\n",
       "15215    1024\n",
       "15220     789\n",
       "15223     715\n",
       "15218     713\n",
       "15214     387\n",
       "15212     259\n",
       "15210     192\n",
       "15226     125\n",
       "Name: OwnerZip, dtype: int64"
      ]
     },
     "execution_count": 130,
     "metadata": {},
     "output_type": "execute_result"
    }
   ],
   "source": [
    "pitt_dogs = most_dogs[48936:80625]\n",
    "\n",
    "pitt_dogs['OwnerZip'].value_counts()"
   ]
  },
  {
   "cell_type": "code",
   "execution_count": null,
   "metadata": {},
   "outputs": [],
   "source": []
  }
 ],
 "metadata": {
  "kernelspec": {
   "display_name": "Python 3",
   "language": "python",
   "name": "python3"
  },
  "language_info": {
   "codemirror_mode": {
    "name": "ipython",
    "version": 3
   },
   "file_extension": ".py",
   "mimetype": "text/x-python",
   "name": "python",
   "nbconvert_exporter": "python",
   "pygments_lexer": "ipython3",
   "version": "3.8.3"
  }
 },
 "nbformat": 4,
 "nbformat_minor": 4
}
